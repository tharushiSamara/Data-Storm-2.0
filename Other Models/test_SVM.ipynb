{
 "cells": [
  {
   "cell_type": "code",
   "execution_count": 1,
   "metadata": {},
   "outputs": [],
   "source": [
    "import pandas as pd\n",
    "import numpy as np\n",
    "import matplotlib.pyplot as plt\n",
    "import seaborn as sns\n",
    "%matplotlib inline\n",
    "from sklearn import svm, datasets\n",
    "import sklearn.model_selection as model_selection\n",
    "from sklearn.metrics import accuracy_score\n",
    "from sklearn.metrics import f1_score"
   ]
  },
  {
   "cell_type": "code",
   "execution_count": 2,
   "metadata": {},
   "outputs": [],
   "source": [
    "train = pd.read_csv('F:\\Data Storm 2.0\\Dataset\\Hotel-A-train.csv')"
   ]
  },
  {
   "cell_type": "code",
   "execution_count": 3,
   "metadata": {},
   "outputs": [],
   "source": [
    "validate=pd.read_csv('F:\\Data Storm 2.0\\Dataset\\Hotel-A-validation.csv')"
   ]
  },
  {
   "cell_type": "code",
   "execution_count": 4,
   "metadata": {},
   "outputs": [],
   "source": [
    "train['Reservation_Status'].replace('Check-In', 1,inplace=True)\n",
    "train['Reservation_Status'].replace('Canceled', 2,inplace=True)\n",
    "train['Reservation_Status'].replace('No-Show', 3,inplace=True)\n",
    "\n",
    "validate['Reservation_Status'].replace('Check-In', 1,inplace=True)\n",
    "validate['Reservation_Status'].replace('Canceled', 2,inplace=True)\n",
    "validate['Reservation_Status'].replace('No-Show', 3,inplace=True)"
   ]
  },
  {
   "cell_type": "code",
   "execution_count": 5,
   "metadata": {},
   "outputs": [],
   "source": [
    "train['Income'].replace('<25K', 1,inplace=True)\n",
    "train['Income'].replace('25K --50K', 2,inplace=True)\n",
    "train['Income'].replace('50K -- 100K', 3,inplace=True)\n",
    "train['Income'].replace('>100K', 4,inplace=True)\n",
    "\n",
    "validate['Income'].replace('<25K', 1,inplace=True)\n",
    "validate['Income'].replace('25K --50K', 2,inplace=True)\n",
    "validate['Income'].replace('50K -- 100K', 3,inplace=True)\n",
    "validate['Income'].replace('>100K', 4,inplace=True)"
   ]
  },
  {
   "cell_type": "code",
   "execution_count": 6,
   "metadata": {},
   "outputs": [],
   "source": [
    "train['Meal_Type'].replace('BB', 1,inplace=True)\n",
    "train['Meal_Type'].replace('HB', 2,inplace=True)\n",
    "train['Meal_Type'].replace('FB', 3,inplace=True)\n",
    "\n",
    "validate['Meal_Type'].replace('BB', 1,inplace=True)\n",
    "validate['Meal_Type'].replace('HB', 2,inplace=True)\n",
    "validate['Meal_Type'].replace('FB', 3,inplace=True)"
   ]
  },
  {
   "cell_type": "code",
   "execution_count": 7,
   "metadata": {},
   "outputs": [],
   "source": [
    "train['Dependants']=train['Adults']+train['Children']+train['Babies']\n",
    "validate['Dependants'] = validate['Adults']+validate['Children']+validate['Babies']\n",
    "\n",
    "train['checkin_month'] = pd.DatetimeIndex(train['Expected_checkin']).month\n",
    "validate['checkin_month'] = pd.DatetimeIndex(validate['Expected_checkin']).month\n",
    "\n",
    "train['checkout_month']=pd.DatetimeIndex(train['Expected_checkout']).month\n",
    "validate['checkout_month']=pd.DatetimeIndex(validate['Expected_checkout']).month\n",
    "\n",
    "train['booking_month']=pd.DatetimeIndex(train['Booking_date']).month\n",
    "validate['booking_month']=pd.DatetimeIndex(validate['Booking_date']).month\n",
    "\n",
    "train['booking_year']=pd.DatetimeIndex(train['Booking_date']).year\n",
    "validate['booking_year']=pd.DatetimeIndex(validate['Booking_date']).year\n",
    "\n",
    "train['checkout_year']=pd.DatetimeIndex(train['Expected_checkout']).year\n",
    "validate['checkout_year']=pd.DatetimeIndex(validate['Expected_checkout']).year\n",
    "\n",
    "train['checkin_year'] = pd.DatetimeIndex(train['Expected_checkin']).year\n",
    "validate['checkin_year'] = pd.DatetimeIndex(validate['Expected_checkin']).year\n",
    "\n",
    "train['Expected_checkin'] = pd.to_datetime(train['Expected_checkin'])\n",
    "validate['Expected_checkin'] = pd.to_datetime(validate['Expected_checkin'])\n",
    "\n",
    "train['Expected_checkout'] = pd.to_datetime(train['Expected_checkout'])\n",
    "validate['Expected_checkout'] = pd.to_datetime(validate['Expected_checkout'])\n",
    "\n",
    "train['Booking_date'] = pd.to_datetime(train['Booking_date'])\n",
    "validate['Booking_date'] = pd.to_datetime(validate['Booking_date'])\n",
    "\n",
    "train['days_until_check_in']=(train['Expected_checkin']-train['Booking_date']).dt.days\n",
    "validate['days_until_check_in']=(validate['Expected_checkin']-validate['Booking_date']).dt.days\n",
    "\n",
    "train['staying_days'] = (train['Expected_checkout']-train['Expected_checkin']).dt.days\n",
    "validate['staying_days'] = (validate['Expected_checkout']-validate['Expected_checkin']).dt.days"
   ]
  },
  {
   "cell_type": "code",
   "execution_count": 8,
   "metadata": {},
   "outputs": [],
   "source": [
    "from sklearn.preprocessing import MinMaxScaler\n",
    "min_max_scaler = MinMaxScaler()\n",
    "train[[\"days_until_check_in\"]] = min_max_scaler.fit_transform(train[[\"days_until_check_in\"]])\n",
    "train[[\"staying_days\"]] = min_max_scaler.fit_transform(train[[\"staying_days\"]])\n",
    "\n",
    "validate[[\"days_until_check_in\"]] = min_max_scaler.fit_transform(validate[[\"days_until_check_in\"]])\n",
    "validate[[\"staying_days\"]] = min_max_scaler.fit_transform(validate[[\"staying_days\"]])"
   ]
  },
  {
   "cell_type": "code",
   "execution_count": 9,
   "metadata": {},
   "outputs": [],
   "source": [
    "train.drop(['Expected_checkin', 'Expected_checkout','Booking_date'], axis='columns', inplace=True)\n",
    "validate.drop(['Expected_checkin', 'Expected_checkout','Booking_date'], axis='columns', inplace=True)"
   ]
  },
  {
   "cell_type": "code",
   "execution_count": 10,
   "metadata": {},
   "outputs": [],
   "source": [
    "x_t= train.drop('Reservation_Status',1)\n",
    "y_t= train.Reservation_Status"
   ]
  },
  {
   "cell_type": "code",
   "execution_count": 11,
   "metadata": {},
   "outputs": [],
   "source": [
    "x_v = validate.drop('Reservation_Status',1)\n",
    "y_v= validate.Reservation_Status"
   ]
  },
  {
   "cell_type": "code",
   "execution_count": 12,
   "metadata": {},
   "outputs": [],
   "source": [
    "x_t = pd.get_dummies(x_t)\n",
    "x_v = pd.get_dummies(x_v)"
   ]
  },
  {
   "cell_type": "code",
   "execution_count": 13,
   "metadata": {},
   "outputs": [
    {
     "ename": "KeyboardInterrupt",
     "evalue": "",
     "output_type": "error",
     "traceback": [
      "\u001b[1;31m---------------------------------------------------------------------------\u001b[0m",
      "\u001b[1;31mKeyboardInterrupt\u001b[0m                         Traceback (most recent call last)",
      "\u001b[1;32m<ipython-input-13-6a320391f419>\u001b[0m in \u001b[0;36m<module>\u001b[1;34m\u001b[0m\n\u001b[1;32m----> 1\u001b[1;33m \u001b[0mrbf\u001b[0m \u001b[1;33m=\u001b[0m \u001b[0msvm\u001b[0m\u001b[1;33m.\u001b[0m\u001b[0mSVC\u001b[0m\u001b[1;33m(\u001b[0m\u001b[0mkernel\u001b[0m\u001b[1;33m=\u001b[0m\u001b[1;34m'rbf'\u001b[0m\u001b[1;33m,\u001b[0m \u001b[0mgamma\u001b[0m\u001b[1;33m=\u001b[0m\u001b[1;36m0.5\u001b[0m\u001b[1;33m,\u001b[0m \u001b[0mC\u001b[0m\u001b[1;33m=\u001b[0m\u001b[1;36m0.1\u001b[0m\u001b[1;33m)\u001b[0m\u001b[1;33m.\u001b[0m\u001b[0mfit\u001b[0m\u001b[1;33m(\u001b[0m\u001b[0mx_t\u001b[0m\u001b[1;33m,\u001b[0m \u001b[0my_t\u001b[0m\u001b[1;33m)\u001b[0m\u001b[1;33m\u001b[0m\u001b[1;33m\u001b[0m\u001b[0m\n\u001b[0m\u001b[0;32m      2\u001b[0m \u001b[0mpoly\u001b[0m \u001b[1;33m=\u001b[0m \u001b[0msvm\u001b[0m\u001b[1;33m.\u001b[0m\u001b[0mSVC\u001b[0m\u001b[1;33m(\u001b[0m\u001b[0mkernel\u001b[0m\u001b[1;33m=\u001b[0m\u001b[1;34m'poly'\u001b[0m\u001b[1;33m,\u001b[0m \u001b[0mdegree\u001b[0m\u001b[1;33m=\u001b[0m\u001b[1;36m3\u001b[0m\u001b[1;33m,\u001b[0m \u001b[0mC\u001b[0m\u001b[1;33m=\u001b[0m\u001b[1;36m1\u001b[0m\u001b[1;33m)\u001b[0m\u001b[1;33m.\u001b[0m\u001b[0mfit\u001b[0m\u001b[1;33m(\u001b[0m\u001b[0mx_t\u001b[0m\u001b[1;33m,\u001b[0m \u001b[0my_t\u001b[0m\u001b[1;33m)\u001b[0m\u001b[1;33m\u001b[0m\u001b[1;33m\u001b[0m\u001b[0m\n\u001b[0;32m      3\u001b[0m \u001b[1;33m\u001b[0m\u001b[0m\n\u001b[0;32m      4\u001b[0m \u001b[1;31m#sig = svm.SVC(kernel='sigmoid', C=1, decision_function_shape='ovo').fit(X_train, y_train)\u001b[0m\u001b[1;33m\u001b[0m\u001b[1;33m\u001b[0m\u001b[1;33m\u001b[0m\u001b[0m\n",
      "\u001b[1;32mc:\\users\\tharushi samara\\appdata\\local\\programs\\python\\python37\\lib\\site-packages\\sklearn\\svm\\base.py\u001b[0m in \u001b[0;36mfit\u001b[1;34m(self, X, y, sample_weight)\u001b[0m\n\u001b[0;32m    207\u001b[0m \u001b[1;33m\u001b[0m\u001b[0m\n\u001b[0;32m    208\u001b[0m         \u001b[0mseed\u001b[0m \u001b[1;33m=\u001b[0m \u001b[0mrnd\u001b[0m\u001b[1;33m.\u001b[0m\u001b[0mrandint\u001b[0m\u001b[1;33m(\u001b[0m\u001b[0mnp\u001b[0m\u001b[1;33m.\u001b[0m\u001b[0miinfo\u001b[0m\u001b[1;33m(\u001b[0m\u001b[1;34m'i'\u001b[0m\u001b[1;33m)\u001b[0m\u001b[1;33m.\u001b[0m\u001b[0mmax\u001b[0m\u001b[1;33m)\u001b[0m\u001b[1;33m\u001b[0m\u001b[1;33m\u001b[0m\u001b[0m\n\u001b[1;32m--> 209\u001b[1;33m         \u001b[0mfit\u001b[0m\u001b[1;33m(\u001b[0m\u001b[0mX\u001b[0m\u001b[1;33m,\u001b[0m \u001b[0my\u001b[0m\u001b[1;33m,\u001b[0m \u001b[0msample_weight\u001b[0m\u001b[1;33m,\u001b[0m \u001b[0msolver_type\u001b[0m\u001b[1;33m,\u001b[0m \u001b[0mkernel\u001b[0m\u001b[1;33m,\u001b[0m \u001b[0mrandom_seed\u001b[0m\u001b[1;33m=\u001b[0m\u001b[0mseed\u001b[0m\u001b[1;33m)\u001b[0m\u001b[1;33m\u001b[0m\u001b[1;33m\u001b[0m\u001b[0m\n\u001b[0m\u001b[0;32m    210\u001b[0m         \u001b[1;31m# see comment on the other call to np.iinfo in this file\u001b[0m\u001b[1;33m\u001b[0m\u001b[1;33m\u001b[0m\u001b[1;33m\u001b[0m\u001b[0m\n\u001b[0;32m    211\u001b[0m \u001b[1;33m\u001b[0m\u001b[0m\n",
      "\u001b[1;32mc:\\users\\tharushi samara\\appdata\\local\\programs\\python\\python37\\lib\\site-packages\\sklearn\\svm\\base.py\u001b[0m in \u001b[0;36m_dense_fit\u001b[1;34m(self, X, y, sample_weight, solver_type, kernel, random_seed)\u001b[0m\n\u001b[0;32m    266\u001b[0m                 \u001b[0mcache_size\u001b[0m\u001b[1;33m=\u001b[0m\u001b[0mself\u001b[0m\u001b[1;33m.\u001b[0m\u001b[0mcache_size\u001b[0m\u001b[1;33m,\u001b[0m \u001b[0mcoef0\u001b[0m\u001b[1;33m=\u001b[0m\u001b[0mself\u001b[0m\u001b[1;33m.\u001b[0m\u001b[0mcoef0\u001b[0m\u001b[1;33m,\u001b[0m\u001b[1;33m\u001b[0m\u001b[1;33m\u001b[0m\u001b[0m\n\u001b[0;32m    267\u001b[0m                 \u001b[0mgamma\u001b[0m\u001b[1;33m=\u001b[0m\u001b[0mself\u001b[0m\u001b[1;33m.\u001b[0m\u001b[0m_gamma\u001b[0m\u001b[1;33m,\u001b[0m \u001b[0mepsilon\u001b[0m\u001b[1;33m=\u001b[0m\u001b[0mself\u001b[0m\u001b[1;33m.\u001b[0m\u001b[0mepsilon\u001b[0m\u001b[1;33m,\u001b[0m\u001b[1;33m\u001b[0m\u001b[1;33m\u001b[0m\u001b[0m\n\u001b[1;32m--> 268\u001b[1;33m                 max_iter=self.max_iter, random_seed=random_seed)\n\u001b[0m\u001b[0;32m    269\u001b[0m \u001b[1;33m\u001b[0m\u001b[0m\n\u001b[0;32m    270\u001b[0m         \u001b[0mself\u001b[0m\u001b[1;33m.\u001b[0m\u001b[0m_warn_from_fit_status\u001b[0m\u001b[1;33m(\u001b[0m\u001b[1;33m)\u001b[0m\u001b[1;33m\u001b[0m\u001b[1;33m\u001b[0m\u001b[0m\n",
      "\u001b[1;31mKeyboardInterrupt\u001b[0m: "
     ]
    }
   ],
   "source": [
    "rbf = svm.SVC(kernel='rbf', gamma=0.5, C=0.1).fit(x_t, y_t)\n",
    "poly = svm.SVC(kernel='poly', degree=3, C=1).fit(x_t, y_t)\n",
    "\n",
    "#sig = svm.SVC(kernel='sigmoid', C=1, decision_function_shape='ovo').fit(X_train, y_train)"
   ]
  },
  {
   "cell_type": "code",
   "execution_count": null,
   "metadata": {},
   "outputs": [],
   "source": [
    "sig = svm.SVC(kernel='sigmoid', C=1, decision_function_shape='ovo').fit(x_t, y_t)"
   ]
  },
  {
   "cell_type": "code",
   "execution_count": null,
   "metadata": {},
   "outputs": [],
   "source": [
    "poly_pred = poly.predict(x_v)\n",
    "rbf_pred = rbf.predict(x_v)\n",
    "\n",
    "sig_pred = sig.predict(x_v)"
   ]
  },
  {
   "cell_type": "code",
   "execution_count": 17,
   "metadata": {},
   "outputs": [
    {
     "name": "stdout",
     "output_type": "stream",
     "text": [
      "Accuracy (Polynomial Kernel):  14.48\n",
      "F1 (Polynomial Kernel):  3.66\n"
     ]
    },
    {
     "name": "stderr",
     "output_type": "stream",
     "text": [
      "c:\\users\\tharushi samara\\appdata\\local\\programs\\python\\python37\\lib\\site-packages\\sklearn\\metrics\\classification.py:1437: UndefinedMetricWarning: F-score is ill-defined and being set to 0.0 in labels with no predicted samples.\n",
      "  'precision', 'predicted', average, warn_for)\n"
     ]
    }
   ],
   "source": [
    "poly_accuracy = accuracy_score(y_v, poly_pred)\n",
    "poly_f1 = f1_score(y_v, poly_pred, average='weighted')\n",
    "print('Accuracy (Polynomial Kernel): ', \"%.2f\" % (poly_accuracy*100))\n",
    "print('F1 (Polynomial Kernel): ', \"%.2f\" % (poly_f1*100))"
   ]
  },
  {
   "cell_type": "code",
   "execution_count": 18,
   "metadata": {},
   "outputs": [
    {
     "name": "stdout",
     "output_type": "stream",
     "text": [
      "Accuracy (RBF Kernel):  58.57\n",
      "F1 (RBF Kernel):  43.26\n"
     ]
    }
   ],
   "source": [
    "rbf_accuracy = accuracy_score(y_v, rbf_pred)\n",
    "rbf_f1 = f1_score(y_v, rbf_pred, average='weighted')\n",
    "print('Accuracy (RBF Kernel): ', \"%.2f\" % (rbf_accuracy*100))\n",
    "print('F1 (RBF Kernel): ', \"%.2f\" % (rbf_f1*100))"
   ]
  },
  {
   "cell_type": "code",
   "execution_count": 20,
   "metadata": {},
   "outputs": [
    {
     "name": "stdout",
     "output_type": "stream",
     "text": [
      "Accuracy (Sigmoid Kernel):  58.57\n",
      "F1 (Sigmoid Kernel):  43.26\n"
     ]
    }
   ],
   "source": [
    "sig_accuracy = accuracy_score(y_v, sig_pred)\n",
    "sig_f1 = f1_score(y_v, sig_pred, average='weighted')\n",
    "print('Accuracy (Sigmoid Kernel): ', \"%.2f\" % (sig_accuracy*100))\n",
    "print('F1 (Sigmoid Kernel): ', \"%.2f\" % (sig_f1*100))"
   ]
  },
  {
   "cell_type": "code",
   "execution_count": 21,
   "metadata": {},
   "outputs": [],
   "source": [
    "from sklearn.metrics import classification_report,confusion_matrix"
   ]
  },
  {
   "cell_type": "code",
   "execution_count": 22,
   "metadata": {},
   "outputs": [
    {
     "name": "stdout",
     "output_type": "stream",
     "text": [
      "              precision    recall  f1-score   support\n",
      "\n",
      "           1       0.00      0.00      0.00      1610\n",
      "           2       0.00      0.00      0.00       741\n",
      "           3       0.14      1.00      0.25       398\n",
      "\n",
      "    accuracy                           0.14      2749\n",
      "   macro avg       0.05      0.33      0.08      2749\n",
      "weighted avg       0.02      0.14      0.04      2749\n",
      "\n"
     ]
    },
    {
     "name": "stderr",
     "output_type": "stream",
     "text": [
      "c:\\users\\tharushi samara\\appdata\\local\\programs\\python\\python37\\lib\\site-packages\\sklearn\\metrics\\classification.py:1437: UndefinedMetricWarning: Precision and F-score are ill-defined and being set to 0.0 in labels with no predicted samples.\n",
      "  'precision', 'predicted', average, warn_for)\n"
     ]
    }
   ],
   "source": [
    "print(classification_report(y_v, poly_pred))"
   ]
  },
  {
   "cell_type": "code",
   "execution_count": 23,
   "metadata": {},
   "outputs": [
    {
     "name": "stdout",
     "output_type": "stream",
     "text": [
      "              precision    recall  f1-score   support\n",
      "\n",
      "           1       0.59      1.00      0.74      1610\n",
      "           2       0.00      0.00      0.00       741\n",
      "           3       0.00      0.00      0.00       398\n",
      "\n",
      "    accuracy                           0.59      2749\n",
      "   macro avg       0.20      0.33      0.25      2749\n",
      "weighted avg       0.34      0.59      0.43      2749\n",
      "\n"
     ]
    }
   ],
   "source": [
    "print(classification_report(y_v, rbf_pred))"
   ]
  },
  {
   "cell_type": "code",
   "execution_count": 24,
   "metadata": {},
   "outputs": [
    {
     "name": "stdout",
     "output_type": "stream",
     "text": [
      "              precision    recall  f1-score   support\n",
      "\n",
      "           1       0.59      1.00      0.74      1610\n",
      "           2       0.00      0.00      0.00       741\n",
      "           3       0.00      0.00      0.00       398\n",
      "\n",
      "    accuracy                           0.59      2749\n",
      "   macro avg       0.20      0.33      0.25      2749\n",
      "weighted avg       0.34      0.59      0.43      2749\n",
      "\n"
     ]
    }
   ],
   "source": [
    "print(classification_report(y_v, sig_pred))"
   ]
  },
  {
   "cell_type": "code",
   "execution_count": 26,
   "metadata": {},
   "outputs": [
    {
     "name": "stdout",
     "output_type": "stream",
     "text": [
      "{3}\n",
      "{1}\n",
      "{1}\n"
     ]
    }
   ],
   "source": [
    "print(set(list(poly_pred)))\n",
    "print(set(list(rbf_pred)))\n",
    "print(set(list(sig_pred)))"
   ]
  },
  {
   "cell_type": "markdown",
   "metadata": {},
   "source": [
    "### Prediction"
   ]
  },
  {
   "cell_type": "code",
   "execution_count": 27,
   "metadata": {},
   "outputs": [],
   "source": [
    "test=pd.read_csv('F:\\Data Storm 2.0\\Dataset\\Hotel-A-test.csv')"
   ]
  },
  {
   "cell_type": "code",
   "execution_count": 28,
   "metadata": {},
   "outputs": [],
   "source": [
    "test['Income'].replace('<25K', 1,inplace=True)\n",
    "test['Income'].replace('25K --50K', 2,inplace=True)\n",
    "test['Income'].replace('50K -- 100K', 3,inplace=True)\n",
    "test['Income'].replace('>100K', 4,inplace=True)"
   ]
  },
  {
   "cell_type": "code",
   "execution_count": 29,
   "metadata": {},
   "outputs": [],
   "source": [
    "test['Meal_Type'].replace('BB', 1,inplace=True)\n",
    "test['Meal_Type'].replace('HB', 2,inplace=True)\n",
    "test['Meal_Type'].replace('FB', 3,inplace=True)"
   ]
  },
  {
   "cell_type": "code",
   "execution_count": 30,
   "metadata": {},
   "outputs": [],
   "source": [
    "test['Dependants']=test['Adults']+test['Children']+test['Babies']\n",
    "\n",
    "test['checkin_month'] = pd.DatetimeIndex(test['Expected_checkin']).month\n",
    "\n",
    "test['checkout_month']=pd.DatetimeIndex(test['Expected_checkout']).month\n",
    "\n",
    "test['booking_month']=pd.DatetimeIndex(test['Booking_date']).month\n",
    "\n",
    "test['booking_year']=pd.DatetimeIndex(test['Booking_date']).year\n",
    "\n",
    "test['checkout_year']=pd.DatetimeIndex(test['Expected_checkout']).year\n",
    "\n",
    "test['checkin_year'] = pd.DatetimeIndex(test['Expected_checkin']).year\n",
    "\n",
    "test['Expected_checkin'] = pd.to_datetime(test['Expected_checkin'])\n",
    "\n",
    "test['Expected_checkout'] = pd.to_datetime(test['Expected_checkout'])\n",
    "\n",
    "test['Booking_date'] = pd.to_datetime(test['Booking_date'])\n",
    "\n",
    "test['days_until_check_in']=(test['Expected_checkin']-test['Booking_date']).dt.days\n",
    "\n",
    "test['staying_days'] = (test['Expected_checkout']-test['Expected_checkin']).dt.days"
   ]
  },
  {
   "cell_type": "code",
   "execution_count": 31,
   "metadata": {},
   "outputs": [],
   "source": [
    "min_max_scaler = MinMaxScaler()\n",
    "test[[\"days_until_check_in\"]] = min_max_scaler.fit_transform(test[[\"days_until_check_in\"]])\n",
    "test[[\"staying_days\"]] = min_max_scaler.fit_transform(test[[\"staying_days\"]])"
   ]
  },
  {
   "cell_type": "code",
   "execution_count": 32,
   "metadata": {},
   "outputs": [],
   "source": [
    "test.drop(['Expected_checkin', 'Expected_checkout','Booking_date','Adults','Children','Babies'], axis='columns', inplace=True)"
   ]
  },
  {
   "cell_type": "code",
   "execution_count": 33,
   "metadata": {},
   "outputs": [
    {
     "data": {
      "text/html": [
       "<div>\n",
       "<style scoped>\n",
       "    .dataframe tbody tr th:only-of-type {\n",
       "        vertical-align: middle;\n",
       "    }\n",
       "\n",
       "    .dataframe tbody tr th {\n",
       "        vertical-align: top;\n",
       "    }\n",
       "\n",
       "    .dataframe thead th {\n",
       "        text-align: right;\n",
       "    }\n",
       "</style>\n",
       "<table border=\"1\" class=\"dataframe\">\n",
       "  <thead>\n",
       "    <tr style=\"text-align: right;\">\n",
       "      <th></th>\n",
       "      <th>Reservation-id</th>\n",
       "      <th>Age</th>\n",
       "      <th>Income</th>\n",
       "      <th>Meal_Type</th>\n",
       "      <th>Discount_Rate</th>\n",
       "      <th>Room_Rate</th>\n",
       "      <th>Dependants</th>\n",
       "      <th>checkin_month</th>\n",
       "      <th>checkout_month</th>\n",
       "      <th>booking_month</th>\n",
       "      <th>...</th>\n",
       "      <th>Deposit_type_No Deposit</th>\n",
       "      <th>Deposit_type_Non-Refundable</th>\n",
       "      <th>Deposit_type_Refundable</th>\n",
       "      <th>Booking_channel_Agent</th>\n",
       "      <th>Booking_channel_Direct</th>\n",
       "      <th>Booking_channel_Online</th>\n",
       "      <th>Required_Car_Parking_No</th>\n",
       "      <th>Required_Car_Parking_Yes</th>\n",
       "      <th>Use_Promotion_No</th>\n",
       "      <th>Use_Promotion_Yes</th>\n",
       "    </tr>\n",
       "  </thead>\n",
       "  <tbody>\n",
       "    <tr>\n",
       "      <td>0</td>\n",
       "      <td>62931593</td>\n",
       "      <td>52</td>\n",
       "      <td>2</td>\n",
       "      <td>2</td>\n",
       "      <td>10</td>\n",
       "      <td>153</td>\n",
       "      <td>6</td>\n",
       "      <td>11</td>\n",
       "      <td>11</td>\n",
       "      <td>10</td>\n",
       "      <td>...</td>\n",
       "      <td>1</td>\n",
       "      <td>0</td>\n",
       "      <td>0</td>\n",
       "      <td>0</td>\n",
       "      <td>1</td>\n",
       "      <td>0</td>\n",
       "      <td>0</td>\n",
       "      <td>1</td>\n",
       "      <td>0</td>\n",
       "      <td>1</td>\n",
       "    </tr>\n",
       "    <tr>\n",
       "      <td>1</td>\n",
       "      <td>70586099</td>\n",
       "      <td>47</td>\n",
       "      <td>2</td>\n",
       "      <td>3</td>\n",
       "      <td>0</td>\n",
       "      <td>210</td>\n",
       "      <td>3</td>\n",
       "      <td>11</td>\n",
       "      <td>11</td>\n",
       "      <td>8</td>\n",
       "      <td>...</td>\n",
       "      <td>1</td>\n",
       "      <td>0</td>\n",
       "      <td>0</td>\n",
       "      <td>0</td>\n",
       "      <td>0</td>\n",
       "      <td>1</td>\n",
       "      <td>1</td>\n",
       "      <td>0</td>\n",
       "      <td>1</td>\n",
       "      <td>0</td>\n",
       "    </tr>\n",
       "    <tr>\n",
       "      <td>2</td>\n",
       "      <td>4230648</td>\n",
       "      <td>28</td>\n",
       "      <td>1</td>\n",
       "      <td>1</td>\n",
       "      <td>5</td>\n",
       "      <td>117</td>\n",
       "      <td>4</td>\n",
       "      <td>4</td>\n",
       "      <td>5</td>\n",
       "      <td>4</td>\n",
       "      <td>...</td>\n",
       "      <td>1</td>\n",
       "      <td>0</td>\n",
       "      <td>0</td>\n",
       "      <td>1</td>\n",
       "      <td>0</td>\n",
       "      <td>0</td>\n",
       "      <td>1</td>\n",
       "      <td>0</td>\n",
       "      <td>0</td>\n",
       "      <td>1</td>\n",
       "    </tr>\n",
       "    <tr>\n",
       "      <td>3</td>\n",
       "      <td>25192322</td>\n",
       "      <td>65</td>\n",
       "      <td>2</td>\n",
       "      <td>3</td>\n",
       "      <td>10</td>\n",
       "      <td>107</td>\n",
       "      <td>6</td>\n",
       "      <td>11</td>\n",
       "      <td>11</td>\n",
       "      <td>5</td>\n",
       "      <td>...</td>\n",
       "      <td>1</td>\n",
       "      <td>0</td>\n",
       "      <td>0</td>\n",
       "      <td>0</td>\n",
       "      <td>0</td>\n",
       "      <td>1</td>\n",
       "      <td>0</td>\n",
       "      <td>1</td>\n",
       "      <td>0</td>\n",
       "      <td>1</td>\n",
       "    </tr>\n",
       "    <tr>\n",
       "      <td>4</td>\n",
       "      <td>80931528</td>\n",
       "      <td>45</td>\n",
       "      <td>2</td>\n",
       "      <td>1</td>\n",
       "      <td>0</td>\n",
       "      <td>119</td>\n",
       "      <td>4</td>\n",
       "      <td>11</td>\n",
       "      <td>11</td>\n",
       "      <td>10</td>\n",
       "      <td>...</td>\n",
       "      <td>0</td>\n",
       "      <td>0</td>\n",
       "      <td>1</td>\n",
       "      <td>1</td>\n",
       "      <td>0</td>\n",
       "      <td>0</td>\n",
       "      <td>1</td>\n",
       "      <td>0</td>\n",
       "      <td>1</td>\n",
       "      <td>0</td>\n",
       "    </tr>\n",
       "  </tbody>\n",
       "</table>\n",
       "<p>5 rows × 46 columns</p>\n",
       "</div>"
      ],
      "text/plain": [
       "   Reservation-id  Age  Income  Meal_Type  Discount_Rate  Room_Rate  \\\n",
       "0        62931593   52       2          2             10        153   \n",
       "1        70586099   47       2          3              0        210   \n",
       "2         4230648   28       1          1              5        117   \n",
       "3        25192322   65       2          3             10        107   \n",
       "4        80931528   45       2          1              0        119   \n",
       "\n",
       "   Dependants  checkin_month  checkout_month  booking_month  ...  \\\n",
       "0           6             11              11             10  ...   \n",
       "1           3             11              11              8  ...   \n",
       "2           4              4               5              4  ...   \n",
       "3           6             11              11              5  ...   \n",
       "4           4             11              11             10  ...   \n",
       "\n",
       "   Deposit_type_No Deposit  Deposit_type_Non-Refundable  \\\n",
       "0                        1                            0   \n",
       "1                        1                            0   \n",
       "2                        1                            0   \n",
       "3                        1                            0   \n",
       "4                        0                            0   \n",
       "\n",
       "   Deposit_type_Refundable  Booking_channel_Agent  Booking_channel_Direct  \\\n",
       "0                        0                      0                       1   \n",
       "1                        0                      0                       0   \n",
       "2                        0                      1                       0   \n",
       "3                        0                      0                       0   \n",
       "4                        1                      1                       0   \n",
       "\n",
       "   Booking_channel_Online  Required_Car_Parking_No  Required_Car_Parking_Yes  \\\n",
       "0                       0                        0                         1   \n",
       "1                       1                        1                         0   \n",
       "2                       0                        1                         0   \n",
       "3                       1                        0                         1   \n",
       "4                       0                        1                         0   \n",
       "\n",
       "   Use_Promotion_No  Use_Promotion_Yes  \n",
       "0                 0                  1  \n",
       "1                 1                  0  \n",
       "2                 0                  1  \n",
       "3                 0                  1  \n",
       "4                 1                  0  \n",
       "\n",
       "[5 rows x 46 columns]"
      ]
     },
     "execution_count": 33,
     "metadata": {},
     "output_type": "execute_result"
    }
   ],
   "source": [
    "test = pd.get_dummies(test)\n",
    "test.head()"
   ]
  },
  {
   "cell_type": "code",
   "execution_count": 34,
   "metadata": {},
   "outputs": [],
   "source": [
    "poly_pred = poly.predict(test)\n",
    "rbf_pred = rbf.predict(test)\n",
    "sig_pred = sig.predict(test)"
   ]
  },
  {
   "cell_type": "code",
   "execution_count": 35,
   "metadata": {},
   "outputs": [
    {
     "name": "stdout",
     "output_type": "stream",
     "text": [
      "{3}\n",
      "{1}\n"
     ]
    }
   ],
   "source": [
    "print(set(list(poly_pred)))\n",
    "print(set(list(rbf_pred)))\n",
    "print(set(list(sig_pred)))"
   ]
  },
  {
   "cell_type": "code",
   "execution_count": null,
   "metadata": {},
   "outputs": [],
   "source": []
  }
 ],
 "metadata": {
  "kernelspec": {
   "display_name": "Python 3",
   "language": "python",
   "name": "python3"
  },
  "language_info": {
   "codemirror_mode": {
    "name": "ipython",
    "version": 3
   },
   "file_extension": ".py",
   "mimetype": "text/x-python",
   "name": "python",
   "nbconvert_exporter": "python",
   "pygments_lexer": "ipython3",
   "version": "3.7.4"
  }
 },
 "nbformat": 4,
 "nbformat_minor": 4
}
